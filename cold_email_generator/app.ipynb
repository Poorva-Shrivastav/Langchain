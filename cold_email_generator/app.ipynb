{
 "cells": [
  {
   "cell_type": "code",
   "execution_count": 1,
   "metadata": {},
   "outputs": [],
   "source": [
    "import os\n",
    "from dotenv import load_dotenv\n",
    "\n",
    "load_dotenv()\n",
    "\n",
    "groq_api_key = os.getenv(\"GROQ_API_KEY\")"
   ]
  },
  {
   "cell_type": "code",
   "execution_count": null,
   "metadata": {},
   "outputs": [],
   "source": [
    "from langchain_groq import ChatGroq\n",
    "\n",
    "\n",
    "llm = ChatGroq(\n",
    "    temperature=1, \n",
    "    groq_api_key=groq_api_key, \n",
    "    model_name=\"llama-3.3-70b-versatile\",\n",
    "   \n",
    "    )"
   ]
  },
  {
   "cell_type": "code",
   "execution_count": null,
   "metadata": {},
   "outputs": [],
   "source": [
    "import chromadb\n",
    "chroma_client = chromadb.Client()\n",
    "collection = chroma_client.create_collection(name=\"test_collection\") \n",
    "# collection is like a table for inserting records"
   ]
  },
  {
   "cell_type": "code",
   "execution_count": 21,
   "metadata": {},
   "outputs": [
    {
     "name": "stderr",
     "output_type": "stream",
     "text": [
      "Add of existing embedding ID: id1\n",
      "Add of existing embedding ID: id2\n",
      "Add of existing embedding ID: id3\n",
      "Add of existing embedding ID: id4\n",
      "Insert of existing embedding ID: id1\n",
      "Insert of existing embedding ID: id2\n",
      "Insert of existing embedding ID: id3\n",
      "Insert of existing embedding ID: id4\n"
     ]
    }
   ],
   "source": [
    "# adding records to the db\n",
    "collection.add(\n",
    "    documents=[\n",
    "        \"This is a document about pineapple\",\n",
    "        \"This is a document about oranges\",\n",
    "        \"This is a document about Thailand\",\n",
    "        \"This is a document about Bangalore\",\n",
    "        \n",
    "    ],\n",
    "    ids=[\"id1\", \"id2\",\"id3\",\"id4\" ]\n",
    ")"
   ]
  },
  {
   "cell_type": "code",
   "execution_count": 18,
   "metadata": {},
   "outputs": [
    {
     "data": {
      "text/plain": [
       "{'ids': ['id1', 'id2', 'id3', 'id4'],\n",
       " 'embeddings': None,\n",
       " 'documents': ['This is a document about pineapple',\n",
       "  'This is a document about oranges',\n",
       "  'This is a document about Thailand',\n",
       "  'This is a document about Bangalore'],\n",
       " 'uris': None,\n",
       " 'data': None,\n",
       " 'metadatas': [None, None, None, None],\n",
       " 'included': [<IncludeEnum.documents: 'documents'>,\n",
       "  <IncludeEnum.metadatas: 'metadatas'>]}"
      ]
     },
     "execution_count": 18,
     "metadata": {},
     "output_type": "execute_result"
    }
   ],
   "source": [
    "all_docs = collection.get()\n",
    "all_docs"
   ]
  },
  {
   "cell_type": "code",
   "execution_count": null,
   "metadata": {},
   "outputs": [],
   "source": [
    "doc1 = collection.get(ids=[\"id1\"])\n",
    "doc1"
   ]
  },
  {
   "cell_type": "code",
   "execution_count": null,
   "metadata": {},
   "outputs": [],
   "source": [
    "# collection.query does a semantic search on the query text.\n",
    "\n",
    "result = collection.query(\n",
    "    query_texts=[\"This is a query document about Phi Phi\"], # Chroma will embed this for you\n",
    "    n_results=2 # how many results to return\n",
    ")\n",
    "result"
   ]
  },
  {
   "cell_type": "code",
   "execution_count": null,
   "metadata": {},
   "outputs": [],
   "source": [
    "collection.delete(ids=all_docs['ids'])\n",
    "collection.get()"
   ]
  },
  {
   "cell_type": "code",
   "execution_count": 24,
   "metadata": {},
   "outputs": [],
   "source": [
    "# adding records with metadata to the db\n",
    "collection.add(\n",
    "    documents=[\n",
    "        \"This is a document about pineapple\",\n",
    "        \"This is a document about oranges\",\n",
    "        \"This is a document about Bangkok\",\n",
    "        \"This is a document about Bangalore\",\n",
    "        \n",
    "    ],\n",
    "    ids=[\"id1\", \"id2\",\"id3\",\"id4\" ],\n",
    "    metadatas=[\n",
    "        {\"url\":\"https://en.wikipedia.org/wiki/Pineapple\"},\n",
    "        {\"url\":\"https://en.wikipedia.org/wiki/Orange\"},\n",
    "        {\"url\":\"https://en.wikipedia.org/wiki/Bangkok\"},\n",
    "        {\"url\":\"https://en.wikipedia.org/wiki/Bengaluru\"},\n",
    "\n",
    "        ]\n",
    ")"
   ]
  },
  {
   "cell_type": "code",
   "execution_count": 25,
   "metadata": {},
   "outputs": [
    {
     "data": {
      "text/plain": [
       "{'ids': [['id3', 'id4']],\n",
       " 'embeddings': None,\n",
       " 'documents': [['This is a document about Bangkok',\n",
       "   'This is a document about Bangalore']],\n",
       " 'uris': None,\n",
       " 'data': None,\n",
       " 'metadatas': [[{'url': 'https://en.wikipedia.org/wiki/Bangkok'},\n",
       "   {'url': 'https://en.wikipedia.org/wiki/Bengaluru'}]],\n",
       " 'distances': [[1.217174768447876, 1.3561327457427979]],\n",
       " 'included': [<IncludeEnum.distances: 'distances'>,\n",
       "  <IncludeEnum.documents: 'documents'>,\n",
       "  <IncludeEnum.metadatas: 'metadatas'>]}"
      ]
     },
     "execution_count": 25,
     "metadata": {},
     "output_type": "execute_result"
    }
   ],
   "source": [
    "result = collection.query(\n",
    "    query_texts=[\"This is a query document about Phi Phi\"],\n",
    "    n_results=2\n",
    ")\n",
    "result"
   ]
  },
  {
   "cell_type": "code",
   "execution_count": 36,
   "metadata": {},
   "outputs": [
    {
     "name": "stdout",
     "output_type": "stream",
     "text": [
      "Atlan - Partner Sales EngineerPartner Sales EngineerUnited StatesSales – Sales Engineering /Full Time /RemoteApply for this jobWhy is this role important for us? 🔗As our first Partner Sales Engineer at Atlan, you're at the heart of our mission to empower data teams worldwide through strategic partnerships with leading cloud/tech partners and System Integrators (SI's). Our sales and go-to-market team plays a pivotal role in helping customers solve problems and navigate their data journey. As our GTM team rapidly expands to meet growing demand, we're seeking a talented Partner Sales Engineer to help build and mature our Partner Sales Engineering function. This role is critical in fostering collaboration with our tech partners and SI's to accelerate growth and drive customer success.Your mission at Atlan ⭐️As a Partner Sales Engineer, your mission is to build strong relationships with key stakeholders within our partner ecosystem including partners such as Snowflake and Databricks.Your role is all about evangelising Atlan’s value and competitive differentiation to partner field teams.Influencing and creating interest in the early stages of the partnership through product demos.Ensuring successful onboarding, training, enablement, and certification of partner technical resources.Recommending partners for a customer's requirements to our sales team through a deep understanding of our partner ecosystem.Technical solutioning to jointly develop repeatable solutions and reference architectures with SI partners.What makes you a match for us? 😍Sales Engineering Experience: A minimum of 7 years working experience in Sales Engineering + Partnerships Data Background: You bring hands-on experience in the modern data stack eco-system paired with a deep understanding of partner ecosystems and integrations.Technical Proficiency: Deep understanding of the data ecosystem with base level knowledge of Python, SQL and Rest APIs.Strategic Accounts Experience: You have a proven track record of navigating complex sales cycles and multi-stakeholder deals with leading cloud/tech partners and SI's.Problem-Solving Skills: You excel at crafting creative solutions to technical challenges and thrive in dynamic environments.Strong Communication and Stakeholder Management: Your ability to communicate effectively and build strong relationships with partners and customers sets you apart.Entrepreneurial Mindset: You're passionate about driving impact and making a difference in a high-growth startup environment.$0 - $0 bimonthlyApply for this jobAtlan Home PageJobs powered by \n"
     ]
    }
   ],
   "source": [
    "from langchain_community.document_loaders import WebBaseLoader\n",
    "\n",
    "loader = WebBaseLoader(\"https://jobs.lever.co/atlan/12b574ba-d65f-4cdc-8ac7-9aca0a7eecc9\")\n",
    "\n",
    "page_data = loader.load().pop().page_content\n",
    "print(page_data)"
   ]
  },
  {
   "cell_type": "code",
   "execution_count": 38,
   "metadata": {},
   "outputs": [
    {
     "data": {
      "text/plain": [
       "'```\\n{\\n  \"role\": \"Partner Sales Engineer\",\\n  \"experience\": \"A minimum of 7 years working experience in Sales Engineering + Partnerships\",\\n  \"skills\": [\\n    \"Sales Engineering Experience\",\\n    \"Data Background\",\\n    \"Technical Proficiency\",\\n    \"Strategic Accounts Experience\",\\n    \"Problem-Solving Skills\",\\n    \"Strong Communication and Stakeholder Management\",\\n    \"Entrepreneurial Mindset\",\\n    \"Python\",\\n    \"SQL\",\\n    \"Rest APIs\"\\n  ],\\n  \"description\": \"As our first Partner Sales Engineer at Atlan, you\\'re at the heart of our mission to empower data teams worldwide through strategic partnerships with leading cloud/tech partners and System Integrators (SI\\'s). Your mission is to build strong relationships with key stakeholders within our partner ecosystem, evangelise Atlan’s value and competitive differentiation to partner field teams, and influence and create interest in the early stages of the partnership.\"\\n}\\n```'"
      ]
     },
     "execution_count": 38,
     "metadata": {},
     "output_type": "execute_result"
    }
   ],
   "source": [
    "from langchain_core.prompts import PromptTemplate\n",
    "\n",
    "prompt_extract = PromptTemplate.from_template(\n",
    "    \"\"\"\n",
    "### SCRAPED TEXT FROM WEBSITE:\n",
    "{page_data}\n",
    "### INSTRUCTION\n",
    "The scraped text is from the career's page of a website.\n",
    "Your job is to extract the job posting and return them in JSON format containing the following keys: 'role', 'experience', 'skills', and 'description'\n",
    "\n",
    "Only return the valid JSON.\n",
    "\n",
    "### VALID JSON (NO PREAMBLE):\n",
    "\"\"\"\n",
    ")\n",
    "\n",
    "chain_extract = prompt_extract | llm\n",
    "response = chain_extract.invoke(input ={ \"page_data\" : page_data})\n",
    "\n",
    "response.content"
   ]
  },
  {
   "cell_type": "code",
   "execution_count": 40,
   "metadata": {},
   "outputs": [
    {
     "data": {
      "text/plain": [
       "{'role': 'Partner Sales Engineer',\n",
       " 'experience': 'A minimum of 7 years working experience in Sales Engineering + Partnerships',\n",
       " 'skills': ['Sales Engineering Experience',\n",
       "  'Data Background',\n",
       "  'Technical Proficiency',\n",
       "  'Strategic Accounts Experience',\n",
       "  'Problem-Solving Skills',\n",
       "  'Strong Communication and Stakeholder Management',\n",
       "  'Entrepreneurial Mindset',\n",
       "  'Python',\n",
       "  'SQL',\n",
       "  'Rest APIs'],\n",
       " 'description': \"As our first Partner Sales Engineer at Atlan, you're at the heart of our mission to empower data teams worldwide through strategic partnerships with leading cloud/tech partners and System Integrators (SI's). Your mission is to build strong relationships with key stakeholders within our partner ecosystem, evangelise Atlan’s value and competitive differentiation to partner field teams, and influence and create interest in the early stages of the partnership.\"}"
      ]
     },
     "execution_count": 40,
     "metadata": {},
     "output_type": "execute_result"
    }
   ],
   "source": [
    "# the content is string, we need to parse it now\n",
    "from langchain_core.output_parsers import JsonOutputParser\n",
    "\n",
    "json_parser = JsonOutputParser()\n",
    "json_response = json_parser.parse(response.content)\n",
    "\n",
    "json_response \n"
   ]
  },
  {
   "cell_type": "code",
   "execution_count": 41,
   "metadata": {},
   "outputs": [
    {
     "data": {
      "text/html": [
       "<div>\n",
       "<style scoped>\n",
       "    .dataframe tbody tr th:only-of-type {\n",
       "        vertical-align: middle;\n",
       "    }\n",
       "\n",
       "    .dataframe tbody tr th {\n",
       "        vertical-align: top;\n",
       "    }\n",
       "\n",
       "    .dataframe thead th {\n",
       "        text-align: right;\n",
       "    }\n",
       "</style>\n",
       "<table border=\"1\" class=\"dataframe\">\n",
       "  <thead>\n",
       "    <tr style=\"text-align: right;\">\n",
       "      <th></th>\n",
       "      <th>Techstack</th>\n",
       "      <th>Links</th>\n",
       "    </tr>\n",
       "  </thead>\n",
       "  <tbody>\n",
       "    <tr>\n",
       "      <th>0</th>\n",
       "      <td>React, Node.js, MongoDB</td>\n",
       "      <td>https://example.com/react-portfolio</td>\n",
       "    </tr>\n",
       "    <tr>\n",
       "      <th>1</th>\n",
       "      <td>Angular,.NET, SQL Server</td>\n",
       "      <td>https://example.com/angular-portfolio</td>\n",
       "    </tr>\n",
       "    <tr>\n",
       "      <th>2</th>\n",
       "      <td>Vue.js, Ruby on Rails, PostgreSQL</td>\n",
       "      <td>https://example.com/vue-portfolio</td>\n",
       "    </tr>\n",
       "    <tr>\n",
       "      <th>3</th>\n",
       "      <td>Python, Django, MySQL</td>\n",
       "      <td>https://example.com/python-portfolio</td>\n",
       "    </tr>\n",
       "    <tr>\n",
       "      <th>4</th>\n",
       "      <td>Java, Spring Boot, Oracle</td>\n",
       "      <td>https://example.com/java-portfolio</td>\n",
       "    </tr>\n",
       "    <tr>\n",
       "      <th>5</th>\n",
       "      <td>Flutter, Firebase, GraphQL</td>\n",
       "      <td>https://example.com/flutter-portfolio</td>\n",
       "    </tr>\n",
       "    <tr>\n",
       "      <th>6</th>\n",
       "      <td>WordPress, PHP, MySQL</td>\n",
       "      <td>https://example.com/wordpress-portfolio</td>\n",
       "    </tr>\n",
       "    <tr>\n",
       "      <th>7</th>\n",
       "      <td>Magento, PHP, MySQL</td>\n",
       "      <td>https://example.com/magento-portfolio</td>\n",
       "    </tr>\n",
       "    <tr>\n",
       "      <th>8</th>\n",
       "      <td>React Native, Node.js, MongoDB</td>\n",
       "      <td>https://example.com/react-native-portfolio</td>\n",
       "    </tr>\n",
       "    <tr>\n",
       "      <th>9</th>\n",
       "      <td>iOS, Swift, Core Data</td>\n",
       "      <td>https://example.com/ios-portfolio</td>\n",
       "    </tr>\n",
       "    <tr>\n",
       "      <th>10</th>\n",
       "      <td>Android, Java, Room Persistence</td>\n",
       "      <td>https://example.com/android-portfolio</td>\n",
       "    </tr>\n",
       "    <tr>\n",
       "      <th>11</th>\n",
       "      <td>Kotlin, Android, Firebase</td>\n",
       "      <td>https://example.com/kotlin-android-portfolio</td>\n",
       "    </tr>\n",
       "    <tr>\n",
       "      <th>12</th>\n",
       "      <td>Android TV, Kotlin, Android NDK</td>\n",
       "      <td>https://example.com/android-tv-portfolio</td>\n",
       "    </tr>\n",
       "    <tr>\n",
       "      <th>13</th>\n",
       "      <td>iOS, Swift, ARKit</td>\n",
       "      <td>https://example.com/ios-ar-portfolio</td>\n",
       "    </tr>\n",
       "    <tr>\n",
       "      <th>14</th>\n",
       "      <td>Cross-platform, Xamarin, Azure</td>\n",
       "      <td>https://example.com/xamarin-portfolio</td>\n",
       "    </tr>\n",
       "    <tr>\n",
       "      <th>15</th>\n",
       "      <td>Backend, Kotlin, Spring Boot</td>\n",
       "      <td>https://example.com/kotlin-backend-portfolio</td>\n",
       "    </tr>\n",
       "    <tr>\n",
       "      <th>16</th>\n",
       "      <td>Frontend, TypeScript, Angular</td>\n",
       "      <td>https://example.com/typescript-frontend-portfolio</td>\n",
       "    </tr>\n",
       "    <tr>\n",
       "      <th>17</th>\n",
       "      <td>Full-stack, JavaScript, Express.js</td>\n",
       "      <td>https://example.com/full-stack-js-portfolio</td>\n",
       "    </tr>\n",
       "    <tr>\n",
       "      <th>18</th>\n",
       "      <td>Machine Learning, Python, TensorFlow</td>\n",
       "      <td>https://example.com/ml-python-portfolio</td>\n",
       "    </tr>\n",
       "    <tr>\n",
       "      <th>19</th>\n",
       "      <td>DevOps, Jenkins, Docker</td>\n",
       "      <td>https://example.com/devops-portfolio</td>\n",
       "    </tr>\n",
       "  </tbody>\n",
       "</table>\n",
       "</div>"
      ],
      "text/plain": [
       "                               Techstack  \\\n",
       "0                React, Node.js, MongoDB   \n",
       "1               Angular,.NET, SQL Server   \n",
       "2      Vue.js, Ruby on Rails, PostgreSQL   \n",
       "3                  Python, Django, MySQL   \n",
       "4              Java, Spring Boot, Oracle   \n",
       "5             Flutter, Firebase, GraphQL   \n",
       "6                  WordPress, PHP, MySQL   \n",
       "7                    Magento, PHP, MySQL   \n",
       "8         React Native, Node.js, MongoDB   \n",
       "9                  iOS, Swift, Core Data   \n",
       "10       Android, Java, Room Persistence   \n",
       "11             Kotlin, Android, Firebase   \n",
       "12       Android TV, Kotlin, Android NDK   \n",
       "13                     iOS, Swift, ARKit   \n",
       "14        Cross-platform, Xamarin, Azure   \n",
       "15          Backend, Kotlin, Spring Boot   \n",
       "16         Frontend, TypeScript, Angular   \n",
       "17    Full-stack, JavaScript, Express.js   \n",
       "18  Machine Learning, Python, TensorFlow   \n",
       "19               DevOps, Jenkins, Docker   \n",
       "\n",
       "                                                Links  \n",
       "0                 https://example.com/react-portfolio  \n",
       "1               https://example.com/angular-portfolio  \n",
       "2                   https://example.com/vue-portfolio  \n",
       "3                https://example.com/python-portfolio  \n",
       "4                  https://example.com/java-portfolio  \n",
       "5               https://example.com/flutter-portfolio  \n",
       "6             https://example.com/wordpress-portfolio  \n",
       "7               https://example.com/magento-portfolio  \n",
       "8          https://example.com/react-native-portfolio  \n",
       "9                   https://example.com/ios-portfolio  \n",
       "10              https://example.com/android-portfolio  \n",
       "11       https://example.com/kotlin-android-portfolio  \n",
       "12           https://example.com/android-tv-portfolio  \n",
       "13               https://example.com/ios-ar-portfolio  \n",
       "14              https://example.com/xamarin-portfolio  \n",
       "15       https://example.com/kotlin-backend-portfolio  \n",
       "16  https://example.com/typescript-frontend-portfolio  \n",
       "17        https://example.com/full-stack-js-portfolio  \n",
       "18            https://example.com/ml-python-portfolio  \n",
       "19               https://example.com/devops-portfolio  "
      ]
     },
     "execution_count": 41,
     "metadata": {},
     "output_type": "execute_result"
    }
   ],
   "source": [
    "# We are uploading the test data in chroma db. \n",
    "# So whenerver there's a job opening, our program will match the skill metioned and add the mentioned url in the email.\n",
    "\n",
    "import pandas as pd\n",
    "\n",
    "df = pd.read_csv(\"test_data.csv\")\n",
    "df"
   ]
  },
  {
   "cell_type": "code",
   "execution_count": null,
   "metadata": {},
   "outputs": [],
   "source": [
    "import uuid\n",
    "import chromadb\n",
    "\n",
    "client = chromadb.PersistentClient(\"vector_store\")\n",
    "collection = client.get_or_create_collection(name=\"portfolio\")\n",
    "\n",
    "if not collection.count():\n",
    "    for _, row in df.iterrows():\n",
    "        collection.add(\n",
    "            documents=row[\"Techstack\"], \n",
    "            metadatas={\"links\" : row[\"Links\"]},\n",
    "            ids=[str(uuid.uuid4())]\n",
    "            )        "
   ]
  },
  {
   "cell_type": "code",
   "execution_count": 47,
   "metadata": {},
   "outputs": [
    {
     "data": {
      "text/plain": [
       "['Sales Engineering Experience',\n",
       " 'Data Background',\n",
       " 'Technical Proficiency',\n",
       " 'Strategic Accounts Experience',\n",
       " 'Problem-Solving Skills',\n",
       " 'Strong Communication and Stakeholder Management',\n",
       " 'Entrepreneurial Mindset',\n",
       " 'Python',\n",
       " 'SQL',\n",
       " 'Rest APIs']"
      ]
     },
     "execution_count": 47,
     "metadata": {},
     "output_type": "execute_result"
    }
   ],
   "source": [
    "job = json_response #coming after parsing the webpage\n",
    "job[\"skills\"]"
   ]
  },
  {
   "cell_type": "code",
   "execution_count": 48,
   "metadata": {},
   "outputs": [
    {
     "data": {
      "text/plain": [
       "[[{'links': 'https://example.com/vue-portfolio'},\n",
       "  {'links': 'https://example.com/ml-python-portfolio'}],\n",
       " [{'links': 'https://example.com/ios-portfolio'},\n",
       "  {'links': 'https://example.com/android-portfolio'}],\n",
       " [{'links': 'https://example.com/ml-python-portfolio'},\n",
       "  {'links': 'https://example.com/typescript-frontend-portfolio'}],\n",
       " [{'links': 'https://example.com/java-portfolio'},\n",
       "  {'links': 'https://example.com/vue-portfolio'}],\n",
       " [{'links': 'https://example.com/ml-python-portfolio'},\n",
       "  {'links': 'https://example.com/python-portfolio'}],\n",
       " [{'links': 'https://example.com/devops-portfolio'},\n",
       "  {'links': 'https://example.com/react-portfolio'}],\n",
       " [{'links': 'https://example.com/devops-portfolio'},\n",
       "  {'links': 'https://example.com/vue-portfolio'}],\n",
       " [{'links': 'https://example.com/ml-python-portfolio'},\n",
       "  {'links': 'https://example.com/python-portfolio'}],\n",
       " [{'links': 'https://example.com/magento-portfolio'},\n",
       "  {'links': 'https://example.com/wordpress-portfolio'}],\n",
       " [{'links': 'https://example.com/vue-portfolio'},\n",
       "  {'links': 'https://example.com/wordpress-portfolio'}]]"
      ]
     },
     "execution_count": 48,
     "metadata": {},
     "output_type": "execute_result"
    }
   ],
   "source": [
    "links = collection.query(query_texts=job[\"skills\"], n_results=2).get('metadatas', [])\n",
    "\n",
    "links"
   ]
  },
  {
   "cell_type": "code",
   "execution_count": null,
   "metadata": {},
   "outputs": [
    {
     "name": "stdout",
     "output_type": "stream",
     "text": [
      "Subject: Enhancing Partnership Ecosystem with United Random's Expertise\n",
      "\n",
      "Dear Hiring Manager at Atlan,\n",
      "\n",
      "I came across the Partner Sales Engineer role at Atlan and was impressed by the company's mission to empower data teams worldwide. As a Business Development Executive at United Random, an AI & Software Consulting company, I believe our expertise can complement your strategic partnerships and System Integrators (SI's) ecosystem.\n",
      "\n",
      "With our experience in facilitating seamless integration of business processes through automated tools, we can help Atlan build strong relationships with key stakeholders within the partner ecosystem. Our team of experts possesses the necessary skills to evangelize Atlan's value and competitive differentiation to partner field teams, influencing and creating interest in the early stages of the partnership.\n",
      "\n",
      "Our technical proficiency includes Python, SQL, and Rest APIs, which align with the required skills for the Partner Sales Engineer role. We have a proven track record of delivering tailored solutions that foster scalability, process optimization, cost reduction, and heightened overall efficiency.\n",
      "\n",
      "To demonstrate our capabilities, I'd like to highlight some of our relevant portfolio projects:\n",
      "- https://example.com/ml-python-portfolio (Machine Learning and Python expertise)\n",
      "- https://example.com/vue-portfolio (Vue.js expertise for frontend development)\n",
      "- https://example.com/devops-portfolio (DevOps expertise for streamlined operations)\n",
      "\n",
      "Our entrepreneurial mindset and strong communication skills enable us to work closely with clients to understand their needs and deliver innovative solutions. We're confident that our expertise can support Atlan's mission and enhance the company's partnership ecosystem.\n",
      "\n",
      "I'd be delighted to schedule a call to discuss how United Random can contribute to Atlan's success. Please let me know if you're interested in exploring this opportunity further.\n",
      "\n",
      "Best regards,\n",
      "\n",
      "Ashley\n",
      "Business Development Executive\n",
      "United Random\n"
     ]
    }
   ],
   "source": [
    "# prompt template for creating email\n",
    "prompt_email = PromptTemplate.from_template(\n",
    "        \"\"\"\n",
    "        ### JOB DESCRIPTION:\n",
    "        {job_description}\n",
    "        \n",
    "        ### INSTRUCTION:\n",
    "        You are Ashley, a business development executive at Random Consulting. Random Consulting is an AI & Software Consulting company dedicated to facilitating\n",
    "        the seamless integration of business processes through automated tools. \n",
    "        Over our experience, we have empowered numerous enterprises with tailored solutions, fostering scalability, process optimization, cost reduction, and heightened overall efficiency.\n",
    "\n",
    "        Your job is to write a cold email to the client regarding the job mentioned above describing the capability of Random Consulting in fulfilling their needs.\n",
    "\n",
    "        Also add the most relevant ones from the following links to showcase Atliq's portfolio: {links_list}\n",
    "\n",
    "        Remember you are Ashley, BDE at Random Consulting. \n",
    "        Do not provide a preamble.\n",
    "        ### EMAIL (NO PREAMBLE):\n",
    "        \n",
    "        \"\"\"\n",
    "        )\n",
    "\n",
    "chain_email = prompt_email | llm\n",
    "response_email = chain_email.invoke({\"job_description\": str(job), \"links_list\" : links})\n",
    "\n",
    "print(response_email.content)"
   ]
  }
 ],
 "metadata": {
  "kernelspec": {
   "display_name": ".venv",
   "language": "python",
   "name": "python3"
  },
  "language_info": {
   "codemirror_mode": {
    "name": "ipython",
    "version": 3
   },
   "file_extension": ".py",
   "mimetype": "text/x-python",
   "name": "python",
   "nbconvert_exporter": "python",
   "pygments_lexer": "ipython3",
   "version": "3.12.3"
  }
 },
 "nbformat": 4,
 "nbformat_minor": 2
}
